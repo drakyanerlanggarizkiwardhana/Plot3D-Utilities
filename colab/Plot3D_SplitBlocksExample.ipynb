{
  "cells": [
    {
      "cell_type": "markdown",
      "metadata": {
        "id": "54AvU5poWzlV"
      },
      "source": [
        "# Plot3D Python Tutorial\n",
        "In this tutorial you will learn about the Plot3D NASA Standard and how to use NASA's Plot3D python library to read, write, find connectivity, split blocks, and find periodicity.\n",
        "\n",
        "## About Plot3D\n",
        "Plot3D is a standard for defining a simple structured grid. This standard was developed in the 1980's [User Manual](https://www.google.com/url?sa=t&rct=j&q=&esrc=s&source=web&cd=&cad=rja&uact=8&ved=2ahUKEwiLm_2Q8JjzAhUCB50JHTfFCM4QFnoECAMQAQ&url=https%3A%2F%2Fwww.grc.nasa.gov%2Fwww%2Fwinddocs%2Ftowne%2Fplotc%2Fplotc_p3d.html&usg=AOvVaw0iKPGjnhjiQA9AFZcFhkEE) \n",
        "\n",
        "To understand the plot3D standard, we must first start with the definition of an array. The figure below shows a box with 6 faces and 8 verticies represented by black dots. Now if you were to discretize a geometry into many of these boxes all connected to each other. You would have many x,y,z points. To organize things we arrange all this points into an array of x's, y'z, z's and we label them as capital X, Y, Z. \n",
        "\n",
        "![Array](https://raw.githubusercontent.com/nasa/Plot3D_utilities/main/colab/images/array_definition.png)\n",
        "\n",
        "So what does this mean? how is this helpful. It depends on how to arrange the array. If you have a single dimensional array of x like x<sub>1</sub>,x<sub>2</sub>,x<sub>3</sub>, ..., x<sub>n</sub>. This isn't particularly useful because it's hard to split it in to faces - just try it with the simple box above. So what we do instead is represent x as a 3-dimensional array instead of a single dimension. For example x[0,0,0] or x<sub>0,0,0</sub> = some value. \n",
        "The image below shows how we arrange the x values of each of the vertices. \n",
        "\n",
        "\n",
        "![Array](https://raw.githubusercontent.com/nasa/Plot3D_utilities/main/colab/images/array_definition2.png)\n",
        "\n",
        "With this new arrangement of x into a 3-dimensional array, x[i,j,k]. We can easily extract a face. For example the front face is defined by x[0,0,0] x[1,0,0], x[0,1,0], x[1,1,0]. Do you notice anything interesting from this array? The third index \"k\" is 0. **To define a face you simply set either i, j, or k to be a constant value.** For outer faces you would use KMIN or KMAX. Depending on the programming language the indicies may start at 1 or 0. In python we start at 0 and end at n-1. [More info on Python Arrays](https://www.w3schools.com/python/python_arrays.asp)\n",
        "\n",
        "\n",
        "\n"
      ]
    },
    {
      "cell_type": "markdown",
      "metadata": {
        "id": "6FifJWibmCWW"
      },
      "source": [
        "# Environment Setup\n",
        "This step is relatively short. Run the code below to install plot3d "
      ]
    },
    {
      "cell_type": "code",
      "execution_count": 3,
      "metadata": {
        "colab": {
          "base_uri": "https://localhost:8080/"
        },
        "id": "nIp8GfFAlqeu",
        "outputId": "2b536857-e7e8-4674-bde5-dc1c388c0705"
      },
      "outputs": [
        {
          "name": "stdout",
          "output_type": "stream",
          "text": [
            "Looking in indexes: https://pypi.org/simple, https://us-python.pkg.dev/colab-wheels/public/simple/\n",
            "Collecting plot3d\n",
            "  Downloading plot3d-1.5.12-py3-none-any.whl (35 kB)\n",
            "Requirement already satisfied: pandas in /usr/local/lib/python3.8/dist-packages (from plot3d) (1.3.5)\n",
            "Requirement already satisfied: tqdm in /usr/local/lib/python3.8/dist-packages (from plot3d) (4.64.1)\n",
            "Requirement already satisfied: numpy in /usr/local/lib/python3.8/dist-packages (from plot3d) (1.21.6)\n",
            "Requirement already satisfied: scipy in /usr/local/lib/python3.8/dist-packages (from plot3d) (1.7.3)\n",
            "Requirement already satisfied: pytz>=2017.3 in /usr/local/lib/python3.8/dist-packages (from pandas->plot3d) (2022.7.1)\n",
            "Requirement already satisfied: python-dateutil>=2.7.3 in /usr/local/lib/python3.8/dist-packages (from pandas->plot3d) (2.8.2)\n",
            "Requirement already satisfied: six>=1.5 in /usr/local/lib/python3.8/dist-packages (from python-dateutil>=2.7.3->pandas->plot3d) (1.15.0)\n",
            "Installing collected packages: plot3d\n",
            "Successfully installed plot3d-1.5.12\n"
          ]
        }
      ],
      "source": [
        "!pip install plot3d"
      ]
    },
    {
      "cell_type": "markdown",
      "metadata": {
        "id": "B-vKjUSlhUU4"
      },
      "source": [
        "# Reading and Writing a mesh file \n",
        "In simple words, a mesh is a collection of boxes arranged to form a shape. In this example we will explore reading a mesh in ASCII and saving it into a binary format. \n",
        "\n",
        "\n"
      ]
    },
    {
      "cell_type": "markdown",
      "metadata": {
        "id": "eMe93feDJYKP"
      },
      "source": [
        "## Step 1: Load the functions from the library"
      ]
    },
    {
      "cell_type": "code",
      "execution_count": 4,
      "metadata": {
        "id": "vhNhnlrylnWj"
      },
      "outputs": [],
      "source": [
        "from plot3d import read_plot3D, write_plot3D,Block\n",
        "import pickle\n",
        "import pprint"
      ]
    },
    {
      "cell_type": "markdown",
      "metadata": {
        "id": "UHBGBqcqDBhU"
      },
      "source": [
        "## Step 2: Download and read the mesh file\n",
        "The code below reads the plot3D into a variable called blocks. \"blocks\" is a variable representing an array of plot3D blocks. You can think of a block as a 6 sided cube but inside the cube you have multiple smaller cubes. Cubes can be stretched and wrapped such that two ends are connected. This is called an o-mesh. We will plot this in a later step. "
      ]
    },
    {
      "cell_type": "code",
      "execution_count": 1,
      "metadata": {
        "colab": {
          "base_uri": "https://localhost:8080/"
        },
        "id": "iUHGJHOgJcZV",
        "outputId": "60337d0c-52d1-40da-a658-37eb91001643"
      },
      "outputs": [
        {
          "name": "stdout",
          "output_type": "stream",
          "text": [
            "--2023-02-14 16:14:51--  https://nasa-public-data.s3.amazonaws.com/plot3d_utilities/VSPT_ASCII.xyz\n",
            "Resolving nasa-public-data.s3.amazonaws.com (nasa-public-data.s3.amazonaws.com)... 3.5.7.133, 52.216.105.123, 52.217.201.81, ...\n",
            "Connecting to nasa-public-data.s3.amazonaws.com (nasa-public-data.s3.amazonaws.com)|3.5.7.133|:443... connected.\n",
            "HTTP request sent, awaiting response... 200 OK\n",
            "Length: 82265056 (78M) [application/x-www-form-urlencoded]\n",
            "Saving to: ‘VSPT_ASCII.xyz’\n",
            "\n",
            "VSPT_ASCII.xyz      100%[===================>]  78.45M  7.45MB/s    in 20s     \n",
            "\n",
            "2023-02-14 16:15:12 (3.94 MB/s) - ‘VSPT_ASCII.xyz’ saved [82265056/82265056]\n",
            "\n"
          ]
        }
      ],
      "source": [
        "!wget https://nasa-public-data.s3.amazonaws.com/plot3d_utilities/VSPT_ASCII.xyz"
      ]
    },
    {
      "cell_type": "code",
      "execution_count": 5,
      "metadata": {
        "id": "xKRvNqoTKGF-"
      },
      "outputs": [],
      "source": [
        "blocks = read_plot3D('VSPT_ASCII.xyz',binary=False)  # Reading plot3D\n",
        "write_plot3D('vspt.xyz',blocks,binary=True)    # Writing plot3D to binary file"
      ]
    },
    {
      "cell_type": "markdown",
      "metadata": {
        "id": "isJzWIwLR2E5"
      },
      "source": [
        "### Plotting the Mesh\n",
        "The function below shows how we can plot an outline of the mesh "
      ]
    },
    {
      "cell_type": "code",
      "execution_count": 6,
      "metadata": {
        "id": "c_-Wci8mKLSl"
      },
      "outputs": [],
      "source": [
        "import matplotlib.pyplot as plt\n",
        "from mpl_toolkits.mplot3d import axes3d\n",
        "import numpy as np \n",
        "\n",
        "def plot_block_outline(block:Block,ax:axes3d):\n",
        "  IMAX,JMAX,KMAX = block.X.shape\n",
        "  X = block.X \n",
        "  Y = block.Y\n",
        "  Z = block.Z \n",
        "\n",
        "  for i in [0,IMAX-1]:    # Plots curves at constant I bounds \n",
        "    for j in [0,JMAX-1]:\n",
        "      x = X[i,j,:]\n",
        "      y = Y[i,j,:]\n",
        "      z = Z[i,j,:]\n",
        "      ax.plot3D(x,y,z)\n",
        "  for j in [0,JMAX-1]:    # Plots curves at constant I bounds \n",
        "      for k in [0,KMAX-1]:\n",
        "        x = X[:,j,k]\n",
        "        y = Y[:,j,k]\n",
        "        z = Z[:,j,k]\n",
        "        ax.plot3D(x,y,z)\n",
        "  for i in [0,IMAX-1]:    # Plots curves at constant I bounds \n",
        "      for k in [0,KMAX-1]:\n",
        "        x = X[i,:,k]\n",
        "        y = Y[i,:,k]\n",
        "        z = Z[i,:,k]\n",
        "        ax.plot3D(x,y,z)\n"
      ]
    },
    {
      "cell_type": "markdown",
      "metadata": {
        "id": "OnoY_iMNR-Ni"
      },
      "source": [
        "Try playing with this code to see if you can plot one block at a time. Also try changing the rotation "
      ]
    },
    {
      "cell_type": "code",
      "execution_count": 7,
      "metadata": {
        "colab": {
          "base_uri": "https://localhost:8080/",
          "height": 265
        },
        "id": "HJwWA5U1Ld73",
        "outputId": "32ca2db9-90c7-407c-81d3-4375b69574d9"
      },
      "outputs": [
        {
          "name": "stdout",
          "output_type": "stream",
          "text": [
            "we have 2 blocks\n"
          ]
        },
        {
          "data": {
            "image/png": "[encoded data removed]",
            "text/plain": [
              "<Figure size 432x288 with 1 Axes>"
            ]
          },
          "metadata": {
            "needs_background": "light"
          },
          "output_type": "display_data"
        }
      ],
      "source": [
        "fig = plt.figure()\n",
        "ax = fig.add_subplot(111, projection='3d')\n",
        "plot_block_outline(blocks[0],ax)\n",
        "plot_block_outline(blocks[1],ax)\n",
        "ax.view_init(30,45)\n",
        "\n",
        "print(\"we have \" + str(len(blocks)) + \" blocks\")"
      ]
    },
    {
      "cell_type": "markdown",
      "metadata": {
        "id": "hxEZl83CITUM"
      },
      "source": [
        "# Finding Connectivity\n",
        "Connectivity tells the solver how information should transfer between Faces. For example, lets look at the example above. We have 2 blocks `blocks[0]` and `blocks[1]` These are connected via the pressure side of the blade. One of the features of the plot3d library is the ability to find connected faces between blocks as well as all the connected points. "
      ]
    },
    {
      "cell_type": "markdown",
      "metadata": {
        "id": "9brx1wkeC7t-"
      },
      "source": [
        "## Finding Connected Faces"
      ]
    },
    {
      "cell_type": "markdown",
      "metadata": {
        "id": "ZGd5ca-xD5s3"
      },
      "source": [
        "The function `connectivity` takes in a parameter for blocks. The output is a list of face matches between blocks along with the outer faces which are faces that do not have a connection to another block. "
      ]
    },
    {
      "cell_type": "code",
      "execution_count": 8,
      "metadata": {
        "colab": {
          "base_uri": "https://localhost:8080/"
        },
        "id": "yUYFLegDC-F4",
        "outputId": "56634f74-2624-4b96-dfbb-9a901163a3bb"
      },
      "outputs": [
        {
          "name": "stdout",
          "output_type": "stream",
          "text": [
            "gcd to use 4\n"
          ]
        },
        {
          "name": "stderr",
          "output_type": "stream",
          "text": [
            "Finding nearest blocks comparing 0 with 1: 100%|██████████| 1/1 [00:00<00:00, 136.05it/s]\n",
            "Checking connections block 0 with 1: 100%|██████████| 1/1 [00:25<00:00, 25.95s/it]\n"
          ]
        }
      ],
      "source": [
        "from plot3d import connectivity_fast\n",
        "face_matches, outer_faces_formatted = connectivity_fast(blocks)  # Running this code will take a while depending on how fast google colab is on a given day.\n",
        "# or you can call `face_matches, outer_faces_formatted = connectivity_fast(blocks)` which works too but might be slower \n",
        "# Saving the results\n",
        "with open('connectivity.pickle','wb') as f:\n",
        "  pickle.dump({\"face_matches\":face_matches, \"outer_faces\":outer_faces_formatted},f)"
      ]
    },
    {
      "cell_type": "markdown",
      "metadata": {
        "id": "EE_9l_yfERCv"
      },
      "source": [
        "### Representing connected faces \n",
        "`face_matches` contains matching face diagonals. The simpliest way to represent a face match is to use the following standard:\n",
        "\n",
        "Block[0]-Face lower corner represented as [IMIN,JMIN,KMIN] and Face Upper corner represented as [IMAX,JMAX,KMAX] **is matched to** Block[1]-Face lower corner represented as [IMIN,JMIN,KMIN] and Face Upper corner represented as [IMAX,JMAX,KMAX]. \n",
        "\n",
        "![Face matching](https://github.com/nasa/Plot3D_utilities/blob/main/docs/_static/block_face_matching.png?raw=true)\n",
        "\n",
        "`face_matches[0]['match']` is a dataframe of connected points. This is available to you in case you want to use it. \n",
        "\n",
        "You can see that below when we print out the dictionary "
      ]
    },
    {
      "cell_type": "code",
      "execution_count": 9,
      "metadata": {
        "colab": {
          "base_uri": "https://localhost:8080/"
        },
        "id": "-CRWsKtCF8za",
        "outputId": "8561e61f-8472-42df-b540-62fee761ac0f"
      },
      "outputs": [
        {
          "name": "stdout",
          "output_type": "stream",
          "text": [
            "{   'block1': {   'IMAX': 256,\n",
            "                  'IMIN': 128,\n",
            "                  'JMAX': 100,\n",
            "                  'JMIN': 0,\n",
            "                  'KMAX': 32,\n",
            "                  'KMIN': 32,\n",
            "                  'block_index': 0},\n",
            "    'block2': {   'IMAX': 168,\n",
            "                  'IMIN': 40,\n",
            "                  'JMAX': 100,\n",
            "                  'JMIN': 0,\n",
            "                  'KMAX': 0,\n",
            "                  'KMIN': 0,\n",
            "                  'block_index': 1},\n",
            "    'match':      i1  j1 k1  i2  j2 k2\n",
            "26   32   0  8  10   0  0\n",
            "27   32   1  8  10   1  0\n",
            "28   32   2  8  10   2  0\n",
            "29   32   3  8  10   3  0\n",
            "30   32   4  8  10   4  0\n",
            "..   ..  .. ..  ..  .. ..\n",
            "879  64  21  8  42  21  0\n",
            "880  64  22  8  42  22  0\n",
            "881  64  23  8  42  23  0\n",
            "882  64  24  8  42  24  0\n",
            "883  64  25  8  42  25  0\n",
            "\n",
            "[858 rows x 6 columns]}\n"
          ]
        }
      ],
      "source": [
        "with open('connectivity.pickle','rb') as f:\n",
        "  data = pickle.load(f)\n",
        "  face_matches = data['face_matches']\n",
        "  outer_faces = data['outer_faces']\n",
        "\n",
        "face_matches\n",
        "pp = pprint.PrettyPrinter(indent=4)\n",
        "pp.pprint(face_matches[0])"
      ]
    },
    {
      "cell_type": "markdown",
      "metadata": {
        "id": "9_POCx4eL6vY"
      },
      "source": [
        "## Plotting Connected Faces"
      ]
    },
    {
      "cell_type": "code",
      "execution_count": 10,
      "metadata": {
        "id": "zwpjHnl3MB8u"
      },
      "outputs": [],
      "source": [
        "from matplotlib import cm\n",
        "import numpy as np \n",
        "\n",
        "def select_multi_dimensional(T:np.ndarray,dim1:tuple,dim2:tuple, dim3:tuple):\n",
        "    \"\"\"Takes a block (T) and selects X,Y,Z from the block given a face's dimensions\n",
        "        theres really no good way to do this in python \n",
        "    Args:\n",
        "        T (np.ndarray): arbitrary array so say a full matrix containing X\n",
        "        dim1 (tuple): 20,50 this selects X in the i direction from i=20 to 50\n",
        "        dim2 (tuple): 40,60 this selects X in the j direction from j=40 to 60\n",
        "        dim3 (tuple): 10,20 this selects X in the k direction from k=10 to 20\n",
        "\n",
        "    Returns:\n",
        "        np.ndarray: returns X or Y or Z given some range of I,J,K\n",
        "    \"\"\"\n",
        "    if dim1[0] == dim1[1]:\n",
        "        return T[ dim1[0], dim2[0]:dim2[1]+1, dim3[0]:dim3[1]+1 ]\n",
        "    if dim2[0] == dim2[1]:\n",
        "        return T[ dim1[0]:dim1[1]+1, dim2[0], dim3[0]:dim3[1]+1 ]\n",
        "    if dim3[0] == dim3[1]:\n",
        "        return T[ dim1[0]:dim1[1]+1, dim2[0]:dim2[1]+1, dim3[0] ]\n",
        "    \n",
        "    return T[dim1[0]:dim1[1], dim2[0]:dim2[1], dim3[0]:dim3[1]]\n",
        "\n",
        "def plot_face(face_matches,blocks):\n",
        "  for fm in face_matches:\n",
        "    block_index1 = fm['block1']['block_index']\n",
        "    I1 = [fm['block1']['IMIN'],fm['block1']['IMAX']] # [ IMIN IMAX ]\n",
        "    J1 = [fm['block1']['JMIN'],fm['block1']['JMAX']] # [ JMIN JMAX ]\n",
        "    K1 = [fm['block1']['KMIN'],fm['block1']['KMAX']] # [ KMIN KMAX ]\n",
        "\n",
        "    block_index2 = fm['block2']['block_index']\n",
        "    I2 = [fm['block2']['IMIN'],fm['block2']['IMAX']] # [ IMIN IMAX ]\n",
        "    J2 = [fm['block2']['JMIN'],fm['block2']['JMAX']] # [ JMIN JMAX ]\n",
        "    K2 = [fm['block2']['KMIN'],fm['block2']['KMAX']] # [ KMIN KMAX ]\n",
        "\n",
        "    X1 = select_multi_dimensional(blocks[block_index1].X, (I1[0],I1[1]), (J1[0],J1[1]), (K1[0],K1[1]))\n",
        "    Y1 = select_multi_dimensional(blocks[block_index1].Y, (I1[0],I1[1]), (J1[0],J1[1]), (K1[0],K1[1]))\n",
        "    Z1 = select_multi_dimensional(blocks[block_index1].Z, (I1[0],I1[1]), (J1[0],J1[1]), (K1[0],K1[1]))\n",
        "\n",
        "    X2 = select_multi_dimensional(blocks[block_index2].X, (I2[0],I2[1]), (J2[0],J2[1]), (K2[0],K2[1]))\n",
        "    Y2 = select_multi_dimensional(blocks[block_index2].Y, (I2[0],I2[1]), (J2[0],J2[1]), (K2[0],K2[1]))\n",
        "    Z2 = select_multi_dimensional(blocks[block_index2].Z, (I2[0],I2[1]), (J2[0],J2[1]), (K2[0],K2[1]))\n",
        "\n",
        "    # return X1\n",
        "    surf1 = ax.plot_surface(X1, Y1, Z1, cmap=cm.coolwarm, linewidth=0, antialiased=True)\n",
        "    surf2 = ax.plot_surface(X2, Y2, Z2, cmap=cm.coolwarm, linewidth=0, antialiased=True)\n"
      ]
    },
    {
      "cell_type": "code",
      "execution_count": 11,
      "metadata": {
        "colab": {
          "base_uri": "https://localhost:8080/",
          "height": 248
        },
        "id": "0l2xXnzsMFsh",
        "outputId": "3644b643-6ecd-46f2-f0e6-cd12df1fd8a8"
      },
      "outputs": [
        {
          "data": {
            "image/png": "[encoded data removed]",
            "text/plain": [
              "<Figure size 432x288 with 1 Axes>"
            ]
          },
          "metadata": {
            "needs_background": "light"
          },
          "output_type": "display_data"
        }
      ],
      "source": [
        "fig = plt.figure()\n",
        "ax = fig.add_subplot(111, projection='3d')\n",
        "plot_block_outline(blocks[0],ax)\n",
        "plot_block_outline(blocks[1],ax)\n",
        "plot_face(face_matches,blocks)\n",
        "ax.view_init(30,45)"
      ]
    },
    {
      "cell_type": "markdown",
      "metadata": {
        "id": "WSV1umBtIKpX"
      },
      "source": [
        "## Periodic Faces\n",
        "Perodicity is a subset of connectivity. **It relates to how Faces of blocks are connected when rotated by an angle.** You can think of an apple pie and slice it up into equal slices. Say you put in a filling into one of those slices. The filling will splurge over to the other slices. This is kind of what perodicity means. Data goes into one slice, it is transfered into other slices. You can also think of the game Portal.\n",
        "\n",
        "In turbomachinery, simulating an entire turbine wheel requires many points, it is easier to break it into pie slices and apply periodicity/connectivity to the sides. "
      ]
    },
    {
      "cell_type": "code",
      "execution_count": 31,
      "metadata": {
        "colab": {
          "base_uri": "https://localhost:8080/",
          "height": 443
        },
        "id": "CnzI4DJ1hubL",
        "outputId": "3607992b-a628-4406-9229-a2786a575b79"
      },
      "outputs": [
        {
          "name": "stdout",
          "output_type": "stream",
          "text": [
            "gcd to use 4\n"
          ]
        },
        {
          "ename": "IndexError",
          "evalue": "ignored",
          "output_type": "error",
          "traceback": [
            "\u001b[0;31m---------------------------------------------------------------------------\u001b[0m",
            "\u001b[0;31mIndexError\u001b[0m                                Traceback (most recent call last)",
            "\u001b[0;32m<ipython-input-31-34da4685cfd8>\u001b[0m in \u001b[0;36m<module>\u001b[0;34m\u001b[0m\n\u001b[1;32m      2\u001b[0m \u001b[0;34m\u001b[0m\u001b[0m\n\u001b[1;32m      3\u001b[0m \u001b[0;31m# This step may take a while. It is looking for periodicity for all surfaces that have constant \"k\"\u001b[0m\u001b[0;34m\u001b[0m\u001b[0;34m\u001b[0m\u001b[0;34m\u001b[0m\u001b[0m\n\u001b[0;32m----> 4\u001b[0;31m \u001b[0mperiodic_surfaces\u001b[0m\u001b[0;34m,\u001b[0m \u001b[0mouter_faces_to_keep\u001b[0m\u001b[0;34m,\u001b[0m\u001b[0mperiodic_faces\u001b[0m\u001b[0;34m,\u001b[0m\u001b[0mouter_faces\u001b[0m \u001b[0;34m=\u001b[0m \u001b[0mperiodicity_fast\u001b[0m\u001b[0;34m(\u001b[0m\u001b[0mblocks\u001b[0m\u001b[0;34m,\u001b[0m\u001b[0mouter_faces\u001b[0m\u001b[0;34m,\u001b[0m\u001b[0mface_matches\u001b[0m\u001b[0;34m,\u001b[0m\u001b[0mperiodic_direction\u001b[0m\u001b[0;34m=\u001b[0m\u001b[0;34m'k'\u001b[0m\u001b[0;34m,\u001b[0m\u001b[0mrotation_axis\u001b[0m\u001b[0;34m=\u001b[0m\u001b[0;34m'x'\u001b[0m\u001b[0;34m,\u001b[0m\u001b[0mnblades\u001b[0m\u001b[0;34m=\u001b[0m\u001b[0;36m55\u001b[0m\u001b[0;34m)\u001b[0m\u001b[0;34m\u001b[0m\u001b[0;34m\u001b[0m\u001b[0m\n\u001b[0m\u001b[1;32m      5\u001b[0m \u001b[0;32mwith\u001b[0m \u001b[0mopen\u001b[0m\u001b[0;34m(\u001b[0m\u001b[0;34m'connectivity-periodic.pickle'\u001b[0m\u001b[0;34m,\u001b[0m\u001b[0;34m'wb'\u001b[0m\u001b[0;34m)\u001b[0m \u001b[0;32mas\u001b[0m \u001b[0mf\u001b[0m\u001b[0;34m:\u001b[0m\u001b[0;34m\u001b[0m\u001b[0;34m\u001b[0m\u001b[0m\n\u001b[1;32m      6\u001b[0m     \u001b[0;34m[\u001b[0m\u001b[0mm\u001b[0m\u001b[0;34m.\u001b[0m\u001b[0mpop\u001b[0m\u001b[0;34m(\u001b[0m\u001b[0;34m'match'\u001b[0m\u001b[0;34m,\u001b[0m\u001b[0;32mNone\u001b[0m\u001b[0;34m)\u001b[0m \u001b[0;32mfor\u001b[0m \u001b[0mm\u001b[0m \u001b[0;32min\u001b[0m \u001b[0mface_matches\u001b[0m\u001b[0;34m]\u001b[0m \u001b[0;31m# Remove the dataframe\u001b[0m\u001b[0;34m\u001b[0m\u001b[0;34m\u001b[0m\u001b[0m\n",
            "\u001b[0;32m/usr/local/lib/python3.8/dist-packages/plot3d/periodicity.py\u001b[0m in \u001b[0;36mperiodicity_fast\u001b[0;34m(blocks, outer_faces, matched_faces, periodic_direction, rotation_axis, nblades)\u001b[0m\n\u001b[1;32m     68\u001b[0m \u001b[0;34m\u001b[0m\u001b[0m\n\u001b[1;32m     69\u001b[0m     \u001b[0;31m# Find Periodicity\u001b[0m\u001b[0;34m\u001b[0m\u001b[0;34m\u001b[0m\u001b[0;34m\u001b[0m\u001b[0m\n\u001b[0;32m---> 70\u001b[0;31m     \u001b[0mperiodic_faces_export\u001b[0m\u001b[0;34m,\u001b[0m \u001b[0mouter_faces_export\u001b[0m\u001b[0;34m,\u001b[0m \u001b[0mperiodic_faces\u001b[0m\u001b[0;34m,\u001b[0m \u001b[0mouter_faces_all\u001b[0m \u001b[0;34m=\u001b[0m \u001b[0mperiodicity\u001b[0m\u001b[0;34m(\u001b[0m\u001b[0mnew_blocks\u001b[0m\u001b[0;34m,\u001b[0m\u001b[0mouter_faces\u001b[0m\u001b[0;34m,\u001b[0m\u001b[0mmatched_faces\u001b[0m\u001b[0;34m,\u001b[0m\u001b[0mperiodic_direction\u001b[0m\u001b[0;34m,\u001b[0m\u001b[0mrotation_axis\u001b[0m\u001b[0;34m,\u001b[0m\u001b[0mnblades\u001b[0m\u001b[0;34m)\u001b[0m\u001b[0;34m\u001b[0m\u001b[0;34m\u001b[0m\u001b[0m\n\u001b[0m\u001b[1;32m     71\u001b[0m     \u001b[0;31m# scale it up\u001b[0m\u001b[0;34m\u001b[0m\u001b[0;34m\u001b[0m\u001b[0;34m\u001b[0m\u001b[0m\n\u001b[1;32m     72\u001b[0m     \u001b[0;32mfor\u001b[0m \u001b[0mi\u001b[0m \u001b[0;32min\u001b[0m \u001b[0mrange\u001b[0m\u001b[0;34m(\u001b[0m\u001b[0mlen\u001b[0m\u001b[0;34m(\u001b[0m\u001b[0mperiodic_faces_export\u001b[0m\u001b[0;34m)\u001b[0m\u001b[0;34m)\u001b[0m\u001b[0;34m:\u001b[0m\u001b[0;34m\u001b[0m\u001b[0;34m\u001b[0m\u001b[0m\n",
            "\u001b[0;32m/usr/local/lib/python3.8/dist-packages/plot3d/periodicity.py\u001b[0m in \u001b[0;36mperiodicity\u001b[0;34m(blocks, outer_faces, matched_faces, periodic_direction, rotation_axis, nblades)\u001b[0m\n\u001b[1;32m    168\u001b[0m     \u001b[0mperiodic_faces\u001b[0m \u001b[0;34m=\u001b[0m \u001b[0mlist\u001b[0m\u001b[0;34m(\u001b[0m\u001b[0;34m)\u001b[0m      \u001b[0;31m# This is the output of the code\u001b[0m\u001b[0;34m\u001b[0m\u001b[0;34m\u001b[0m\u001b[0m\n\u001b[1;32m    169\u001b[0m     \u001b[0mperiodic_faces_export\u001b[0m \u001b[0;34m=\u001b[0m \u001b[0mlist\u001b[0m\u001b[0;34m(\u001b[0m\u001b[0;34m)\u001b[0m\u001b[0;34m\u001b[0m\u001b[0;34m\u001b[0m\u001b[0m\n\u001b[0;32m--> 170\u001b[0;31m     \u001b[0mouter_faces_all\u001b[0m \u001b[0;34m=\u001b[0m \u001b[0mouter_face_dict_to_list\u001b[0m\u001b[0;34m(\u001b[0m\u001b[0mblocks\u001b[0m\u001b[0;34m,\u001b[0m\u001b[0mouter_faces\u001b[0m\u001b[0;34m)\u001b[0m\u001b[0;34m\u001b[0m\u001b[0;34m\u001b[0m\u001b[0m\n\u001b[0m\u001b[1;32m    171\u001b[0m     \u001b[0mmatched_faces_all\u001b[0m \u001b[0;34m=\u001b[0m \u001b[0mmatch_faces_dict_to_list\u001b[0m\u001b[0;34m(\u001b[0m\u001b[0mblocks\u001b[0m\u001b[0;34m,\u001b[0m\u001b[0mmatched_faces\u001b[0m\u001b[0;34m)\u001b[0m\u001b[0;34m\u001b[0m\u001b[0;34m\u001b[0m\u001b[0m\n\u001b[1;32m    172\u001b[0m \u001b[0;34m\u001b[0m\u001b[0m\n",
            "\u001b[0;32m/usr/local/lib/python3.8/dist-packages/plot3d/facefunctions.py\u001b[0m in \u001b[0;36mouter_face_dict_to_list\u001b[0;34m(blocks, outer_faces, gcd)\u001b[0m\n\u001b[1;32m    453\u001b[0m     \u001b[0mouter_faces_all\u001b[0m \u001b[0;34m=\u001b[0m \u001b[0mlist\u001b[0m\u001b[0;34m(\u001b[0m\u001b[0;34m)\u001b[0m\u001b[0;34m\u001b[0m\u001b[0;34m\u001b[0m\u001b[0m\n\u001b[1;32m    454\u001b[0m     \u001b[0;32mfor\u001b[0m \u001b[0mo\u001b[0m \u001b[0;32min\u001b[0m \u001b[0mouter_faces\u001b[0m\u001b[0;34m:\u001b[0m\u001b[0;34m\u001b[0m\u001b[0;34m\u001b[0m\u001b[0m\n\u001b[0;32m--> 455\u001b[0;31m         face = create_face_from_diagonals(blocks[o['block_index']], int(o['IMIN']/gcd), int(o['JMIN']/gcd), \n\u001b[0m\u001b[1;32m    456\u001b[0m             int(o['KMIN']/gcd), int(o['IMAX']/gcd), int(o['JMAX']/gcd), int(o['KMAX']/gcd))\n\u001b[1;32m    457\u001b[0m         \u001b[0mface\u001b[0m\u001b[0;34m.\u001b[0m\u001b[0mset_block_index\u001b[0m\u001b[0;34m(\u001b[0m\u001b[0mo\u001b[0m\u001b[0;34m[\u001b[0m\u001b[0;34m'block_index'\u001b[0m\u001b[0;34m]\u001b[0m\u001b[0;34m)\u001b[0m\u001b[0;34m\u001b[0m\u001b[0;34m\u001b[0m\u001b[0m\n",
            "\u001b[0;31mIndexError\u001b[0m: list index out of range"
          ]
        }
      ],
      "source": [
        "from plot3d import periodicity_fast, Face\n",
        "\n",
        "# This step may take a while. It is looking for periodicity for all surfaces that have constant \"k\"\n",
        "periodic_surfaces, outer_faces_to_keep,periodic_faces,outer_faces = periodicity_fast(blocks,outer_faces,face_matches,periodic_direction='k',rotation_axis='x',nblades=55)\n",
        "with open('connectivity-periodic.pickle','wb') as f:\n",
        "    [m.pop('match',None) for m in face_matches] # Remove the dataframe\n",
        "    pickle.dump({\"face_matches\":face_matches, \"outer_faces\":outer_faces_to_keep, \"periodic_surfaces\":periodic_surfaces},f)\n"
      ]
    },
    {
      "cell_type": "markdown",
      "metadata": {
        "id": "FlE4OtpXoq0N"
      },
      "source": [
        "## Plotting Periodic Faces\n",
        "This function outputs 4 things\n",
        "\n",
        "\n",
        "1.   periodic_surfaces - this is list of all the surfaces/faces that match when rotated by an angle formatted as a dictionary.\n",
        "2.   outer_faces_to_keep - These are the list of outer faces that are not periodic formatted as a dictionary.\n",
        "3.   periodic_faces - is a list of `Face` objects that are connected to each other organized as a list of tuples: [Face1,  Face2] where Face 1 will contain the block number and the diagonals [IMIN,JMIN,KMIN,IMAX,JMAX,KMAX]. Example: blk: 1 [168,0,0,268,100,0].\n",
        "4.   outer_faces - This is a list of outer faces save as a list of Faces\n",
        "\n",
        "Try running the codes below to see how each of the variables is structured\n",
        "\n",
        "\n",
        "\n"
      ]
    },
    {
      "cell_type": "code",
      "execution_count": 13,
      "metadata": {
        "colab": {
          "base_uri": "https://localhost:8080/"
        },
        "id": "4EyKyuYDq2ED",
        "outputId": "14c73ae2-c2b5-41cb-e005-89efd5a35bc3"
      },
      "outputs": [
        {
          "data": {
            "text/plain": [
              "[[blk: 0 [0,0,32,128,100,32], blk: 1 [40,0,52,168,100,52]],\n",
              " [blk: 1 [0,5,0,40,100,0], blk: 1 [0,5,52,40,100,52]],\n",
              " [blk: 1 [168,0,0,268,100,0], blk: 1 [168,0,52,268,100,52]]]"
            ]
          },
          "execution_count": 13,
          "metadata": {},
          "output_type": "execute_result"
        }
      ],
      "source": [
        "periodic_faces"
      ]
    },
    {
      "cell_type": "code",
      "execution_count": 14,
      "metadata": {
        "colab": {
          "base_uri": "https://localhost:8080/"
        },
        "id": "R8OxrRRIq2Lf",
        "outputId": "04bd73a0-1e8c-4d26-9668-d3bb7956b91a"
      },
      "outputs": [
        {
          "data": {
            "text/plain": [
              "[blk: 0 [0,0,0,256,0,32],\n",
              " blk: 0 [0,100,0,256,100,32],\n",
              " blk: 1 [268,0,0,268,100,52],\n",
              " blk: 1 [0,0,0,268,0,52],\n",
              " blk: 0 [0,0,0,256,100,0],\n",
              " blk: 1 [0,0,0,0,100,52],\n",
              " blk: 1 [0,100,0,268,100,52],\n",
              " blk: 1 [0,0,0,40,5,0],\n",
              " blk: 1 [0,0,52,40,5,52]]"
            ]
          },
          "execution_count": 14,
          "metadata": {},
          "output_type": "execute_result"
        }
      ],
      "source": [
        "outer_faces"
      ]
    },
    {
      "cell_type": "markdown",
      "metadata": {
        "id": "pGc3NG_crTH0"
      },
      "source": [
        "Code below shows how to plot all the periodic surfaces. Matplotlib is not easy to use in colab environment. You can't really zoom or rotate. It is encouraged for you to use paraview to plot. There is a tutorial and examples in the docs https://nasa.github.io/Plot3D_utilities/docs/build/html/index.html "
      ]
    },
    {
      "cell_type": "code",
      "execution_count": 15,
      "metadata": {
        "colab": {
          "base_uri": "https://localhost:8080/",
          "height": 248
        },
        "id": "9w5dr_NhrBtG",
        "outputId": "e8e7c77a-ec94-4e79-ee0f-0884d76eb6cc"
      },
      "outputs": [
        {
          "data": {
            "image/png": "[encoded data removed]",
            "text/plain": [
              "<Figure size 432x288 with 1 Axes>"
            ]
          },
          "metadata": {
            "needs_background": "light"
          },
          "output_type": "display_data"
        }
      ],
      "source": [
        "fig = plt.figure()\n",
        "ax = fig.add_subplot(111, projection='3d')\n",
        "plot_block_outline(blocks[0],ax)\n",
        "plot_block_outline(blocks[1],ax)\n",
        "plot_face(periodic_surfaces[0:1],blocks)\n",
        "ax.view_init(30,45)"
      ]
    },
    {
      "cell_type": "code",
      "execution_count": 16,
      "metadata": {
        "colab": {
          "base_uri": "https://localhost:8080/",
          "height": 248
        },
        "id": "DEUD8JNHrSdH",
        "outputId": "f390fbf5-aa15-4053-cd83-b3fe1853ded6"
      },
      "outputs": [
        {
          "data": {
            "image/png": "[encoded data removed]",
            "text/plain": [
              "<Figure size 432x288 with 1 Axes>"
            ]
          },
          "metadata": {
            "needs_background": "light"
          },
          "output_type": "display_data"
        }
      ],
      "source": [
        "fig = plt.figure()\n",
        "ax = fig.add_subplot(111, projection='3d')\n",
        "plot_block_outline(blocks[0],ax)\n",
        "plot_block_outline(blocks[1],ax)\n",
        "plot_face(periodic_surfaces[2:],blocks)\n",
        "ax.view_init(30,45)"
      ]
    },
    {
      "cell_type": "markdown",
      "metadata": {
        "id": "s0narmIwruCg"
      },
      "source": [
        "# Advance Topics"
      ]
    },
    {
      "cell_type": "markdown",
      "metadata": {
        "id": "qhYeJF3erwm7"
      },
      "source": [
        "## Splitting the Blocks for Computational Efficiency\n",
        "When solving a plot3D block it is often useful to break it into smaller blocks of a certain size. This will improve the speed by splitting the blocks and allowing each CPU core to solve a part of the mesh. BUT we also need to maintain something called multi-grid. "
      ]
    },
    {
      "cell_type": "markdown",
      "metadata": {
        "id": "4z59iTsYw3cA"
      },
      "source": [
        "### Multi-grid concept\n",
        "Mulit-grid is a concept where you take a gird say 4x4 and you solve it as a 2x2 then interpolate the results on to the larger grid. The idea of solving a coarse grid and translating the solution onto a finer grid allows you to reach a converged solution much faster. So that's the benefits, what are the requirements? \n",
        "\n",
        "To achieve multi-grid you need to have something called GCD - greatest common divisor. What does this even mean? If your grid/block is 257 x 101 x 33 in size this means that the largest divisor is 4. This means we can reduce the mesh about 2 times\n",
        "\n",
        "257x101x33 (Fine)    \n",
        "129x51x17  (Coarse)  (Coarse)/2\n",
        "65x26x9    (Coarser) (fine)/4\n",
        "\n",
        "Try to example below to find GCD of a grid\n"
      ]
    },
    {
      "cell_type": "code",
      "execution_count": 17,
      "metadata": {
        "colab": {
          "base_uri": "https://localhost:8080/"
        },
        "id": "4FyKJ_Bxx2VV",
        "outputId": "1ac1babe-711a-44c9-f887-a09f40becb96"
      },
      "outputs": [
        {
          "name": "stdout",
          "output_type": "stream",
          "text": [
            "Greatest common divisor is 4\n"
          ]
        }
      ],
      "source": [
        "from math import gcd\n",
        "grid_size = [257,101,33]\n",
        "grid_size = [g-1 for g in grid_size]\n",
        "temp = gcd(grid_size[0],gcd(grid_size[1],grid_size[2]))\n",
        "print(\"Greatest common divisor is \" + str(temp))"
      ]
    },
    {
      "cell_type": "markdown",
      "metadata": {
        "id": "RI4P_UML1N3T"
      },
      "source": [
        "## Block split example"
      ]
    },
    {
      "cell_type": "code",
      "execution_count": 34,
      "metadata": {
        "id": "q2ElYSc906ST"
      },
      "outputs": [],
      "source": [
        "from plot3d import split_blocks, Direction\n",
        "blocks = read_plot3D('VSPT_ASCII.xyz',binary=False)  # Reading plot3D\n",
        "blocks_split = split_blocks(blocks,300000, direction=Direction.i)\n",
        "write_plot3D('vspt-split.xyz',blocks_split,binary=True)"
      ]
    },
    {
      "cell_type": "markdown",
      "metadata": {
        "id": "3xDWdjYA1hFa"
      },
      "source": [
        "### Connectivity using split blocks"
      ]
    },
    {
      "cell_type": "code",
      "execution_count": 35,
      "metadata": {
        "colab": {
          "base_uri": "https://localhost:8080/"
        },
        "id": "qeefvd9b1bad",
        "outputId": "583def1a-3fb7-4f57-e43a-7918c99c6c0f"
      },
      "outputs": [
        {
          "name": "stdout",
          "output_type": "stream",
          "text": [
            "gcd to use 4\n"
          ]
        },
        {
          "name": "stderr",
          "output_type": "stream",
          "text": [
            "Finding nearest blocks comparing 6 with 7: 100%|██████████| 28/28 [00:00<00:00, 103.72it/s]\n",
            "Checking connections block 6 with 7: 100%|██████████| 27/27 [00:42<00:00,  1.56s/it]\n"
          ]
        }
      ],
      "source": [
        "face_matches, outer_faces_formatted = connectivity_fast(blocks_split)\n",
        "with open('connectivity-block-split.pickle','wb') as f:\n",
        "    pickle.dump({\"face_matches\":face_matches, \"outer_faces\":outer_faces_formatted},f)"
      ]
    },
    {
      "cell_type": "code",
      "execution_count": 24,
      "metadata": {
        "colab": {
          "base_uri": "https://localhost:8080/"
        },
        "id": "-nBp8zPo5fnT",
        "outputId": "dddb5fd9-e681-4061-cfaa-fa3a5a6d2185"
      },
      "outputs": [
        {
          "name": "stdout",
          "output_type": "stream",
          "text": [
            "There are 11 face matches\n",
            "There are 31 outer faces\n"
          ]
        }
      ],
      "source": [
        "print(\"There are {0} face matches\".format(len(face_matches)))\n",
        "print(\"There are {0} outer faces\".format(len(outer_faces_formatted)))"
      ]
    },
    {
      "cell_type": "code",
      "execution_count": 25,
      "metadata": {
        "colab": {
          "base_uri": "https://localhost:8080/"
        },
        "id": "hHcsBNG26Sk-",
        "outputId": "f2d796c7-0c3e-40d4-e1b3-6e8e7f48a26d"
      },
      "outputs": [
        {
          "data": {
            "text/plain": [
              "[{'block1': {'block_index': 0,\n",
              "   'IMIN': 88,\n",
              "   'JMIN': 0,\n",
              "   'KMIN': 0,\n",
              "   'IMAX': 88,\n",
              "   'JMAX': 100,\n",
              "   'KMAX': 32},\n",
              "  'block2': {'block_index': 1,\n",
              "   'IMIN': 0,\n",
              "   'JMIN': 0,\n",
              "   'KMIN': 0,\n",
              "   'IMAX': 0,\n",
              "   'JMAX': 100,\n",
              "   'KMAX': 32},\n",
              "  'match':      i1  j1 k1 i2  j2 k2\n",
              "  0    22   0  0  0   0  0\n",
              "  1    22   0  1  0   0  1\n",
              "  2    22   0  2  0   0  2\n",
              "  3    22   0  3  0   0  3\n",
              "  4    22   0  4  0   0  4\n",
              "  ..   ..  .. .. ..  .. ..\n",
              "  229  22  25  4  0  25  4\n",
              "  230  22  25  5  0  25  5\n",
              "  231  22  25  6  0  25  6\n",
              "  232  22  25  7  0  25  7\n",
              "  233  22  25  8  0  25  8\n",
              "  \n",
              "  [234 rows x 6 columns]},\n",
              " {'block1': {'block_index': 0,\n",
              "   'IMIN': 0,\n",
              "   'JMIN': 0,\n",
              "   'KMIN': 0,\n",
              "   'IMAX': 0,\n",
              "   'JMAX': 100,\n",
              "   'KMAX': 32},\n",
              "  'block2': {'block_index': 2,\n",
              "   'IMIN': 80,\n",
              "   'JMIN': 0,\n",
              "   'KMIN': 0,\n",
              "   'IMAX': 80,\n",
              "   'JMAX': 100,\n",
              "   'KMAX': 32},\n",
              "  'match':     i1  j1 k1  i2  j2 k2\n",
              "  0    0   0  0  20   0  0\n",
              "  1    0   0  1  20   0  1\n",
              "  2    0   0  2  20   0  2\n",
              "  3    0   0  3  20   0  3\n",
              "  4    0   0  4  20   0  4\n",
              "  ..  ..  .. ..  ..  .. ..\n",
              "  229  0  25  4  20  25  4\n",
              "  230  0  25  5  20  25  5\n",
              "  231  0  25  6  20  25  6\n",
              "  232  0  25  7  20  25  7\n",
              "  233  0  25  8  20  25  8\n",
              "  \n",
              "  [234 rows x 6 columns]},\n",
              " {'block1': {'block_index': 1,\n",
              "   'IMIN': 88,\n",
              "   'JMIN': 0,\n",
              "   'KMIN': 0,\n",
              "   'IMAX': 88,\n",
              "   'JMAX': 100,\n",
              "   'KMAX': 32},\n",
              "  'block2': {'block_index': 2,\n",
              "   'IMIN': 0,\n",
              "   'JMIN': 0,\n",
              "   'KMIN': 0,\n",
              "   'IMAX': 0,\n",
              "   'JMAX': 100,\n",
              "   'KMAX': 32},\n",
              "  'match':      i1  j1 k1 i2  j2 k2\n",
              "  0    22   0  0  0   0  0\n",
              "  1    22   0  1  0   0  1\n",
              "  2    22   0  2  0   0  2\n",
              "  3    22   0  3  0   0  3\n",
              "  4    22   0  4  0   0  4\n",
              "  ..   ..  .. .. ..  .. ..\n",
              "  229  22  25  4  0  25  4\n",
              "  230  22  25  5  0  25  5\n",
              "  231  22  25  6  0  25  6\n",
              "  232  22  25  7  0  25  7\n",
              "  233  22  25  8  0  25  8\n",
              "  \n",
              "  [234 rows x 6 columns]},\n",
              " {'block1': {'block_index': 1,\n",
              "   'IMIN': 56,\n",
              "   'JMIN': 0,\n",
              "   'KMIN': 32,\n",
              "   'IMAX': 88,\n",
              "   'JMAX': 100,\n",
              "   'KMAX': 32},\n",
              "  'block2': {'block_index': 4,\n",
              "   'IMIN': 0,\n",
              "   'JMIN': 0,\n",
              "   'KMIN': 0,\n",
              "   'IMAX': 32,\n",
              "   'JMAX': 100,\n",
              "   'KMAX': 0},\n",
              "  'match':      i1  j1 k1 i2  j2 k2\n",
              "  0    14   0  8  0   0  0\n",
              "  1    14   1  8  0   1  0\n",
              "  2    14   2  8  0   2  0\n",
              "  3    14   3  8  0   3  0\n",
              "  4    14   4  8  0   4  0\n",
              "  ..   ..  .. .. ..  .. ..\n",
              "  229  22  21  8  8  21  0\n",
              "  230  22  22  8  8  22  0\n",
              "  231  22  23  8  8  23  0\n",
              "  232  22  24  8  8  24  0\n",
              "  233  22  25  8  8  25  0\n",
              "  \n",
              "  [234 rows x 6 columns]},\n",
              " {'block1': {'block_index': 1,\n",
              "   'IMIN': 40,\n",
              "   'JMIN': 0,\n",
              "   'KMIN': 32,\n",
              "   'IMAX': 56,\n",
              "   'JMAX': 100,\n",
              "   'KMAX': 32},\n",
              "  'block2': {'block_index': 3,\n",
              "   'IMIN': 40,\n",
              "   'JMIN': 0,\n",
              "   'KMIN': 0,\n",
              "   'IMAX': 56,\n",
              "   'JMAX': 100,\n",
              "   'KMAX': 0},\n",
              "  'match':      i1  j1 k1  i2  j2 k2\n",
              "  0    10   0  8  10   0  0\n",
              "  1    10   1  8  10   1  0\n",
              "  2    10   2  8  10   2  0\n",
              "  3    10   3  8  10   3  0\n",
              "  4    10   4  8  10   4  0\n",
              "  ..   ..  .. ..  ..  .. ..\n",
              "  125  14  21  8  14  21  0\n",
              "  126  14  22  8  14  22  0\n",
              "  127  14  23  8  14  23  0\n",
              "  128  14  24  8  14  24  0\n",
              "  129  14  25  8  14  25  0\n",
              "  \n",
              "  [130 rows x 6 columns]},\n",
              " {'block1': {'block_index': 2,\n",
              "   'IMIN': 0,\n",
              "   'JMIN': 0,\n",
              "   'KMIN': 32,\n",
              "   'IMAX': 24,\n",
              "   'JMAX': 100,\n",
              "   'KMAX': 32},\n",
              "  'block2': {'block_index': 4,\n",
              "   'IMIN': 32,\n",
              "   'JMIN': 0,\n",
              "   'KMIN': 0,\n",
              "   'IMAX': 56,\n",
              "   'JMAX': 100,\n",
              "   'KMAX': 0},\n",
              "  'match':     i1  j1 k1  i2  j2 k2\n",
              "  0    0   0  8   8   0  0\n",
              "  1    0   1  8   8   1  0\n",
              "  2    0   2  8   8   2  0\n",
              "  3    0   3  8   8   3  0\n",
              "  4    0   4  8   8   4  0\n",
              "  ..  ..  .. ..  ..  .. ..\n",
              "  177  6  21  8  14  21  0\n",
              "  178  6  22  8  14  22  0\n",
              "  179  6  23  8  14  23  0\n",
              "  180  6  24  8  14  24  0\n",
              "  181  6  25  8  14  25  0\n",
              "  \n",
              "  [182 rows x 6 columns]},\n",
              " {'block1': {'block_index': 2,\n",
              "   'IMIN': 24,\n",
              "   'JMIN': 0,\n",
              "   'KMIN': 32,\n",
              "   'IMAX': 80,\n",
              "   'JMAX': 100,\n",
              "   'KMAX': 32},\n",
              "  'block2': {'block_index': 5,\n",
              "   'IMIN': 0,\n",
              "   'JMIN': 0,\n",
              "   'KMIN': 0,\n",
              "   'IMAX': 56,\n",
              "   'JMAX': 100,\n",
              "   'KMAX': 0},\n",
              "  'match':      i1  j1 k1  i2  j2 k2\n",
              "  0     6   0  8   0   0  0\n",
              "  1     6   1  8   0   1  0\n",
              "  2     6   2  8   0   2  0\n",
              "  3     6   3  8   0   3  0\n",
              "  4     6   4  8   0   4  0\n",
              "  ..   ..  .. ..  ..  .. ..\n",
              "  385  20  21  8  14  21  0\n",
              "  386  20  22  8  14  22  0\n",
              "  387  20  23  8  14  23  0\n",
              "  388  20  24  8  14  24  0\n",
              "  389  20  25  8  14  25  0\n",
              "  \n",
              "  [390 rows x 6 columns]},\n",
              " {'block1': {'block_index': 3,\n",
              "   'IMIN': 56,\n",
              "   'JMIN': 0,\n",
              "   'KMIN': 0,\n",
              "   'IMAX': 56,\n",
              "   'JMAX': 100,\n",
              "   'KMAX': 52},\n",
              "  'block2': {'block_index': 4,\n",
              "   'IMIN': 0,\n",
              "   'JMIN': 0,\n",
              "   'KMIN': 0,\n",
              "   'IMAX': 0,\n",
              "   'JMAX': 100,\n",
              "   'KMAX': 52},\n",
              "  'match':      i1  j1  k1 i2  j2  k2\n",
              "  0    14   0   0  0   0   0\n",
              "  1    14   0   1  0   0   1\n",
              "  2    14   0   2  0   0   2\n",
              "  3    14   0   3  0   0   3\n",
              "  4    14   0   4  0   0   4\n",
              "  ..   ..  ..  .. ..  ..  ..\n",
              "  359  14  25   9  0  25   9\n",
              "  360  14  25  10  0  25  10\n",
              "  361  14  25  11  0  25  11\n",
              "  362  14  25  12  0  25  12\n",
              "  363  14  25  13  0  25  13\n",
              "  \n",
              "  [364 rows x 6 columns]},\n",
              " {'block1': {'block_index': 4,\n",
              "   'IMIN': 56,\n",
              "   'JMIN': 0,\n",
              "   'KMIN': 0,\n",
              "   'IMAX': 56,\n",
              "   'JMAX': 100,\n",
              "   'KMAX': 52},\n",
              "  'block2': {'block_index': 5,\n",
              "   'IMIN': 0,\n",
              "   'JMIN': 0,\n",
              "   'KMIN': 0,\n",
              "   'IMAX': 0,\n",
              "   'JMAX': 100,\n",
              "   'KMAX': 52},\n",
              "  'match':      i1  j1  k1 i2  j2  k2\n",
              "  0    14   0   0  0   0   0\n",
              "  1    14   0   1  0   0   1\n",
              "  2    14   0   2  0   0   2\n",
              "  3    14   0   3  0   0   3\n",
              "  4    14   0   4  0   0   4\n",
              "  ..   ..  ..  .. ..  ..  ..\n",
              "  359  14  25   9  0  25   9\n",
              "  360  14  25  10  0  25  10\n",
              "  361  14  25  11  0  25  11\n",
              "  362  14  25  12  0  25  12\n",
              "  363  14  25  13  0  25  13\n",
              "  \n",
              "  [364 rows x 6 columns]},\n",
              " {'block1': {'block_index': 5,\n",
              "   'IMIN': 56,\n",
              "   'JMIN': 0,\n",
              "   'KMIN': 0,\n",
              "   'IMAX': 56,\n",
              "   'JMAX': 100,\n",
              "   'KMAX': 52},\n",
              "  'block2': {'block_index': 6,\n",
              "   'IMIN': 0,\n",
              "   'JMIN': 0,\n",
              "   'KMIN': 0,\n",
              "   'IMAX': 0,\n",
              "   'JMAX': 100,\n",
              "   'KMAX': 52},\n",
              "  'match':      i1  j1  k1 i2  j2  k2\n",
              "  0    14   0   0  0   0   0\n",
              "  1    14   0   1  0   0   1\n",
              "  2    14   0   2  0   0   2\n",
              "  3    14   0   3  0   0   3\n",
              "  4    14   0   4  0   0   4\n",
              "  ..   ..  ..  .. ..  ..  ..\n",
              "  359  14  25   9  0  25   9\n",
              "  360  14  25  10  0  25  10\n",
              "  361  14  25  11  0  25  11\n",
              "  362  14  25  12  0  25  12\n",
              "  363  14  25  13  0  25  13\n",
              "  \n",
              "  [364 rows x 6 columns]},\n",
              " {'block1': {'block_index': 6,\n",
              "   'IMIN': 56,\n",
              "   'JMIN': 0,\n",
              "   'KMIN': 0,\n",
              "   'IMAX': 56,\n",
              "   'JMAX': 100,\n",
              "   'KMAX': 52},\n",
              "  'block2': {'block_index': 7,\n",
              "   'IMIN': 0,\n",
              "   'JMIN': 0,\n",
              "   'KMIN': 0,\n",
              "   'IMAX': 0,\n",
              "   'JMAX': 100,\n",
              "   'KMAX': 52},\n",
              "  'match':      i1  j1  k1 i2  j2  k2\n",
              "  0    14   0   0  0   0   0\n",
              "  1    14   0   1  0   0   1\n",
              "  2    14   0   2  0   0   2\n",
              "  3    14   0   3  0   0   3\n",
              "  4    14   0   4  0   0   4\n",
              "  ..   ..  ..  .. ..  ..  ..\n",
              "  359  14  25   9  0  25   9\n",
              "  360  14  25  10  0  25  10\n",
              "  361  14  25  11  0  25  11\n",
              "  362  14  25  12  0  25  12\n",
              "  363  14  25  13  0  25  13\n",
              "  \n",
              "  [364 rows x 6 columns]}]"
            ]
          },
          "execution_count": 25,
          "metadata": {},
          "output_type": "execute_result"
        }
      ],
      "source": [
        "# Displaying face matches \n",
        "face_matches"
      ]
    },
    {
      "cell_type": "code",
      "execution_count": 26,
      "metadata": {
        "colab": {
          "base_uri": "https://localhost:8080/"
        },
        "id": "GiRXPkwC6VpO",
        "outputId": "8ac3944f-cc70-4ab4-8430-4612798e5a52"
      },
      "outputs": [
        {
          "data": {
            "text/plain": [
              "[{'IMIN': 0,\n",
              "  'JMIN': 0,\n",
              "  'KMIN': 0,\n",
              "  'IMAX': 56,\n",
              "  'JMAX': 100,\n",
              "  'KMAX': 0,\n",
              "  'id': 1,\n",
              "  'block_index': 6},\n",
              " {'IMIN': 0,\n",
              "  'JMIN': 0,\n",
              "  'KMIN': 32,\n",
              "  'IMAX': 88,\n",
              "  'JMAX': 100,\n",
              "  'KMAX': 32,\n",
              "  'id': 2,\n",
              "  'block_index': 0},\n",
              " {'IMIN': 0,\n",
              "  'JMIN': 0,\n",
              "  'KMIN': 32,\n",
              "  'IMAX': 40,\n",
              "  'JMAX': 100,\n",
              "  'KMAX': 32,\n",
              "  'id': 3,\n",
              "  'block_index': 1},\n",
              " {'IMIN': 0,\n",
              "  'JMIN': 0,\n",
              "  'KMIN': 0,\n",
              "  'IMAX': 56,\n",
              "  'JMAX': 0,\n",
              "  'KMAX': 52,\n",
              "  'id': 4,\n",
              "  'block_index': 4},\n",
              " {'IMIN': 0,\n",
              "  'JMIN': 0,\n",
              "  'KMIN': 0,\n",
              "  'IMAX': 56,\n",
              "  'JMAX': 0,\n",
              "  'KMAX': 52,\n",
              "  'id': 5,\n",
              "  'block_index': 3},\n",
              " {'IMIN': 0,\n",
              "  'JMIN': 0,\n",
              "  'KMIN': 0,\n",
              "  'IMAX': 56,\n",
              "  'JMAX': 0,\n",
              "  'KMAX': 52,\n",
              "  'id': 6,\n",
              "  'block_index': 5},\n",
              " {'IMIN': 0,\n",
              "  'JMIN': 0,\n",
              "  'KMIN': 0,\n",
              "  'IMAX': 56,\n",
              "  'JMAX': 0,\n",
              "  'KMAX': 52,\n",
              "  'id': 7,\n",
              "  'block_index': 6},\n",
              " {'IMIN': 0,\n",
              "  'JMIN': 100,\n",
              "  'KMIN': 0,\n",
              "  'IMAX': 80,\n",
              "  'JMAX': 100,\n",
              "  'KMAX': 32,\n",
              "  'id': 8,\n",
              "  'block_index': 2},\n",
              " {'IMIN': 0,\n",
              "  'JMIN': 0,\n",
              "  'KMIN': 0,\n",
              "  'IMAX': 44,\n",
              "  'JMAX': 100,\n",
              "  'KMAX': 0,\n",
              "  'id': 9,\n",
              "  'block_index': 7},\n",
              " {'IMIN': 0,\n",
              "  'JMIN': 0,\n",
              "  'KMIN': 0,\n",
              "  'IMAX': 80,\n",
              "  'JMAX': 0,\n",
              "  'KMAX': 32,\n",
              "  'id': 10,\n",
              "  'block_index': 2},\n",
              " {'IMIN': 0,\n",
              "  'JMIN': 100,\n",
              "  'KMIN': 0,\n",
              "  'IMAX': 44,\n",
              "  'JMAX': 100,\n",
              "  'KMAX': 52,\n",
              "  'id': 11,\n",
              "  'block_index': 7},\n",
              " {'IMIN': 0,\n",
              "  'JMIN': 0,\n",
              "  'KMIN': 0,\n",
              "  'IMAX': 40,\n",
              "  'JMAX': 100,\n",
              "  'KMAX': 0,\n",
              "  'id': 12,\n",
              "  'block_index': 3},\n",
              " {'IMIN': 0,\n",
              "  'JMIN': 100,\n",
              "  'KMIN': 0,\n",
              "  'IMAX': 88,\n",
              "  'JMAX': 100,\n",
              "  'KMAX': 32,\n",
              "  'id': 13,\n",
              "  'block_index': 0},\n",
              " {'IMIN': 0,\n",
              "  'JMIN': 100,\n",
              "  'KMIN': 0,\n",
              "  'IMAX': 88,\n",
              "  'JMAX': 100,\n",
              "  'KMAX': 32,\n",
              "  'id': 14,\n",
              "  'block_index': 1},\n",
              " {'IMIN': 0,\n",
              "  'JMIN': 100,\n",
              "  'KMIN': 0,\n",
              "  'IMAX': 56,\n",
              "  'JMAX': 100,\n",
              "  'KMAX': 52,\n",
              "  'id': 15,\n",
              "  'block_index': 3},\n",
              " {'IMIN': 0,\n",
              "  'JMIN': 100,\n",
              "  'KMIN': 0,\n",
              "  'IMAX': 56,\n",
              "  'JMAX': 100,\n",
              "  'KMAX': 52,\n",
              "  'id': 16,\n",
              "  'block_index': 4},\n",
              " {'IMIN': 0,\n",
              "  'JMIN': 100,\n",
              "  'KMIN': 0,\n",
              "  'IMAX': 56,\n",
              "  'JMAX': 100,\n",
              "  'KMAX': 52,\n",
              "  'id': 17,\n",
              "  'block_index': 5},\n",
              " {'IMIN': 0,\n",
              "  'JMIN': 100,\n",
              "  'KMIN': 0,\n",
              "  'IMAX': 56,\n",
              "  'JMAX': 100,\n",
              "  'KMAX': 52,\n",
              "  'id': 18,\n",
              "  'block_index': 6},\n",
              " {'IMIN': 0,\n",
              "  'JMIN': 0,\n",
              "  'KMIN': 0,\n",
              "  'IMAX': 88,\n",
              "  'JMAX': 0,\n",
              "  'KMAX': 32,\n",
              "  'id': 19,\n",
              "  'block_index': 1},\n",
              " {'IMIN': 0,\n",
              "  'JMIN': 0,\n",
              "  'KMIN': 0,\n",
              "  'IMAX': 88,\n",
              "  'JMAX': 0,\n",
              "  'KMAX': 32,\n",
              "  'id': 20,\n",
              "  'block_index': 0},\n",
              " {'IMIN': 0,\n",
              "  'JMIN': 0,\n",
              "  'KMIN': 0,\n",
              "  'IMAX': 80,\n",
              "  'JMAX': 100,\n",
              "  'KMAX': 0,\n",
              "  'id': 21,\n",
              "  'block_index': 2},\n",
              " {'IMIN': 0,\n",
              "  'JMIN': 0,\n",
              "  'KMIN': 0,\n",
              "  'IMAX': 44,\n",
              "  'JMAX': 0,\n",
              "  'KMAX': 52,\n",
              "  'id': 22,\n",
              "  'block_index': 7},\n",
              " {'IMIN': 44,\n",
              "  'JMIN': 0,\n",
              "  'KMIN': 0,\n",
              "  'IMAX': 44,\n",
              "  'JMAX': 100,\n",
              "  'KMAX': 52,\n",
              "  'id': 23,\n",
              "  'block_index': 7},\n",
              " {'IMIN': 0,\n",
              "  'JMIN': 0,\n",
              "  'KMIN': 0,\n",
              "  'IMAX': 0,\n",
              "  'JMAX': 100,\n",
              "  'KMAX': 52,\n",
              "  'id': 24,\n",
              "  'block_index': 3},\n",
              " {'IMIN': 0,\n",
              "  'JMIN': 0,\n",
              "  'KMIN': 0,\n",
              "  'IMAX': 88,\n",
              "  'JMAX': 100,\n",
              "  'KMAX': 0,\n",
              "  'id': 25,\n",
              "  'block_index': 0},\n",
              " {'IMIN': 0,\n",
              "  'JMIN': 0,\n",
              "  'KMIN': 0,\n",
              "  'IMAX': 88,\n",
              "  'JMAX': 100,\n",
              "  'KMAX': 0,\n",
              "  'id': 26,\n",
              "  'block_index': 1},\n",
              " {'IMIN': 0,\n",
              "  'JMIN': 0,\n",
              "  'KMIN': 52,\n",
              "  'IMAX': 56,\n",
              "  'JMAX': 100,\n",
              "  'KMAX': 52,\n",
              "  'id': 27,\n",
              "  'block_index': 4},\n",
              " {'IMIN': 0,\n",
              "  'JMIN': 0,\n",
              "  'KMIN': 52,\n",
              "  'IMAX': 56,\n",
              "  'JMAX': 100,\n",
              "  'KMAX': 52,\n",
              "  'id': 28,\n",
              "  'block_index': 3},\n",
              " {'IMIN': 0,\n",
              "  'JMIN': 0,\n",
              "  'KMIN': 52,\n",
              "  'IMAX': 56,\n",
              "  'JMAX': 100,\n",
              "  'KMAX': 52,\n",
              "  'id': 29,\n",
              "  'block_index': 5},\n",
              " {'IMIN': 0,\n",
              "  'JMIN': 0,\n",
              "  'KMIN': 52,\n",
              "  'IMAX': 56,\n",
              "  'JMAX': 100,\n",
              "  'KMAX': 52,\n",
              "  'id': 30,\n",
              "  'block_index': 6},\n",
              " {'IMIN': 0,\n",
              "  'JMIN': 0,\n",
              "  'KMIN': 52,\n",
              "  'IMAX': 44,\n",
              "  'JMAX': 100,\n",
              "  'KMAX': 52,\n",
              "  'id': 31,\n",
              "  'block_index': 7}]"
            ]
          },
          "execution_count": 26,
          "metadata": {},
          "output_type": "execute_result"
        }
      ],
      "source": [
        "# Displaying outer_faces \n",
        "outer_faces_formatted"
      ]
    },
    {
      "cell_type": "markdown",
      "metadata": {
        "id": "rZg6Px3M2AkW"
      },
      "source": [
        "Plotting the Connectivity example"
      ]
    },
    {
      "cell_type": "code",
      "execution_count": 27,
      "metadata": {
        "colab": {
          "base_uri": "https://localhost:8080/",
          "height": 248
        },
        "id": "PqMkmwfI1_p1",
        "outputId": "fa11845a-376c-4b87-b817-856fa6960cc9"
      },
      "outputs": [
        {
          "data": {
            "image/png": "[encoded data removed]",
            "text/plain": [
              "<Figure size 432x288 with 1 Axes>"
            ]
          },
          "metadata": {
            "needs_background": "light"
          },
          "output_type": "display_data"
        }
      ],
      "source": [
        "fig = plt.figure()\n",
        "ax = fig.add_subplot(111, projection='3d')\n",
        "[plot_block_outline(block,ax) for block in blocks_split]\n",
        "plot_face(face_matches,blocks_split)\n",
        "ax.view_init(30,45)"
      ]
    },
    {
      "cell_type": "markdown",
      "metadata": {
        "id": "ACIOmru41oTv"
      },
      "source": [
        "### Periodicity using split blocks\n",
        "Periodicity using split blocks is a bit interesting. There's lots of partial face matches etc. Again, it's really helpful to visualize using paraview than python, but I'll try to plot it for you anyways "
      ]
    },
    {
      "cell_type": "code",
      "execution_count": 28,
      "metadata": {
        "id": "DWdJW0FU1ri3"
      },
      "outputs": [],
      "source": [
        "with open('connectivity-block-split.pickle','rb') as f:\n",
        "  data = pickle.load(f)\n",
        "  face_matches = data['face_matches']\n",
        "  outer_faces = data['outer_faces']"
      ]
    },
    {
      "cell_type": "code",
      "execution_count": 30,
      "metadata": {
        "colab": {
          "base_uri": "https://localhost:8080/",
          "height": 266
        },
        "id": "P61lnhK51w9U",
        "outputId": "46928971-2b65-4c77-e5cf-0852a646f0e6"
      },
      "outputs": [
        {
          "ename": "NameError",
          "evalue": "ignored",
          "output_type": "error",
          "traceback": [
            "\u001b[0;31m---------------------------------------------------------------------------\u001b[0m",
            "\u001b[0;31mNameError\u001b[0m                                 Traceback (most recent call last)",
            "\u001b[0;32m<ipython-input-30-71b96d445e09>\u001b[0m in \u001b[0;36m<module>\u001b[0;34m\u001b[0m\n\u001b[1;32m      1\u001b[0m \u001b[0mblocks_split\u001b[0m \u001b[0;34m=\u001b[0m \u001b[0mread_plot3D\u001b[0m\u001b[0;34m(\u001b[0m\u001b[0;34m'vspt-split.xyz'\u001b[0m\u001b[0;34m,\u001b[0m \u001b[0mbinary\u001b[0m \u001b[0;34m=\u001b[0m \u001b[0;32mTrue\u001b[0m\u001b[0;34m,\u001b[0m \u001b[0mbig_endian\u001b[0m\u001b[0;34m=\u001b[0m\u001b[0;32mTrue\u001b[0m\u001b[0;34m)\u001b[0m\u001b[0;34m\u001b[0m\u001b[0;34m\u001b[0m\u001b[0m\n\u001b[0;32m----> 2\u001b[0;31m \u001b[0mperiodic_surfaces\u001b[0m\u001b[0;34m,\u001b[0m \u001b[0mouter_faces_to_keep\u001b[0m\u001b[0;34m,\u001b[0m\u001b[0mperiodic_faces\u001b[0m\u001b[0;34m,\u001b[0m\u001b[0mouter_faces\u001b[0m \u001b[0;34m=\u001b[0m \u001b[0mperiodicity_fast\u001b[0m\u001b[0;34m(\u001b[0m\u001b[0mblocks_split\u001b[0m\u001b[0;34m,\u001b[0m\u001b[0mouter_faces\u001b[0m\u001b[0;34m,\u001b[0m\u001b[0mperiodic_direction\u001b[0m\u001b[0;34m=\u001b[0m\u001b[0;34m'k'\u001b[0m\u001b[0;34m,\u001b[0m\u001b[0mrotation_axis\u001b[0m\u001b[0;34m=\u001b[0m\u001b[0;34m'x'\u001b[0m\u001b[0;34m,\u001b[0m\u001b[0mnblades\u001b[0m\u001b[0;34m=\u001b[0m\u001b[0;36m55\u001b[0m\u001b[0;34m)\u001b[0m\u001b[0;34m\u001b[0m\u001b[0;34m\u001b[0m\u001b[0m\n\u001b[0m\u001b[1;32m      3\u001b[0m \u001b[0;32mwith\u001b[0m \u001b[0mopen\u001b[0m\u001b[0;34m(\u001b[0m\u001b[0;34m'connectivity-block-split_v02.pickle'\u001b[0m\u001b[0;34m,\u001b[0m\u001b[0;34m'wb'\u001b[0m\u001b[0;34m)\u001b[0m \u001b[0;32mas\u001b[0m \u001b[0mf\u001b[0m\u001b[0;34m:\u001b[0m\u001b[0;34m\u001b[0m\u001b[0;34m\u001b[0m\u001b[0m\n\u001b[1;32m      4\u001b[0m     \u001b[0;34m[\u001b[0m\u001b[0mm\u001b[0m\u001b[0;34m.\u001b[0m\u001b[0mpop\u001b[0m\u001b[0;34m(\u001b[0m\u001b[0;34m'match'\u001b[0m\u001b[0;34m,\u001b[0m\u001b[0;32mNone\u001b[0m\u001b[0;34m)\u001b[0m \u001b[0;32mfor\u001b[0m \u001b[0mm\u001b[0m \u001b[0;32min\u001b[0m \u001b[0mface_matches\u001b[0m\u001b[0;34m]\u001b[0m \u001b[0;31m# Remove the dataframe\u001b[0m\u001b[0;34m\u001b[0m\u001b[0;34m\u001b[0m\u001b[0m\n\u001b[1;32m      5\u001b[0m     \u001b[0mpickle\u001b[0m\u001b[0;34m.\u001b[0m\u001b[0mdump\u001b[0m\u001b[0;34m(\u001b[0m\u001b[0;34m{\u001b[0m\u001b[0;34m\"face_matches\"\u001b[0m\u001b[0;34m:\u001b[0m\u001b[0mface_matches\u001b[0m\u001b[0;34m,\u001b[0m \u001b[0;34m\"outer_faces\"\u001b[0m\u001b[0;34m:\u001b[0m\u001b[0mouter_faces_to_keep\u001b[0m\u001b[0;34m,\u001b[0m \u001b[0;34m\"periodic_surfaces\"\u001b[0m\u001b[0;34m:\u001b[0m\u001b[0mperiodic_surfaces\u001b[0m\u001b[0;34m}\u001b[0m\u001b[0;34m,\u001b[0m\u001b[0mf\u001b[0m\u001b[0;34m)\u001b[0m\u001b[0;34m\u001b[0m\u001b[0;34m\u001b[0m\u001b[0m\n",
            "\u001b[0;31mNameError\u001b[0m: name 'periodicity_fast' is not defined"
          ]
        }
      ],
      "source": [
        "blocks_split = read_plot3D('vspt-split.xyz', binary = True, big_endian=True)\n",
        "periodic_surfaces, outer_faces_to_keep,periodic_faces,outer_faces = periodicity_fast(blocks_split,outer_faces,periodic_direction='k',rotation_axis='x',nblades=55)\n",
        "with open('connectivity-block-split_v02.pickle','wb') as f:\n",
        "    [m.pop('match',None) for m in face_matches] # Remove the dataframe\n",
        "    pickle.dump({\"face_matches\":face_matches, \"outer_faces\":outer_faces_to_keep, \"periodic_surfaces\":periodic_surfaces},f)\n",
        "\n",
        "# Append periodic surfaces to face_matches\n",
        "face_matches.extend(periodic_surfaces)"
      ]
    },
    {
      "cell_type": "code",
      "execution_count": null,
      "metadata": {
        "id": "ff-cxgEh6RDy"
      },
      "outputs": [],
      "source": [
        "# Displaying periodic surfaces\n",
        "periodic_surfaces"
      ]
    },
    {
      "cell_type": "code",
      "execution_count": null,
      "metadata": {
        "id": "reuPnKv26m3l"
      },
      "outputs": [],
      "source": [
        "# Displaying face matches\n",
        "face_matches"
      ]
    }
  ],
  "metadata": {
    "colab": {
      "name": "Plot3D_SplitBlocksExample.ipynb",
      "provenance": []
    },
    "kernelspec": {
      "display_name": "dev",
      "language": "python",
      "name": "python3"
    },
    "language_info": {
      "name": "python",
      "version": "3.11.0"
    },
    "vscode": {
      "interpreter": {
        "hash": "8e7b77e62dfff1c0a15854cbc369c56bc22d1ccdbf82fcc46c996706e213f9f1"
      }
    }
  },
  "nbformat": 4,
  "nbformat_minor": 0
}
